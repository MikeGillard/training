{
 "metadata": {
  "name": "",
  "signature": "sha256:9f7794c50b6bdd245513972dbff9e4e5132a155fc5e1e2624bb1f3b6c6fa70ca"
 },
 "nbformat": 3,
 "nbformat_minor": 0,
 "worksheets": [
  {
   "cells": [
    {
     "cell_type": "markdown",
     "metadata": {},
     "source": [
      "A little complement to Bartosz's python benchmark.\n",
      "\n",
      "For Bartosz, the sequence is 0,1,1,2,3,5,8,13,21,34.  So calling `python fibo.py 10` prints 34."
     ]
    },
    {
     "cell_type": "code",
     "collapsed": false,
     "input": [
      "def fibo(n):\n",
      "    old, new = 0, 1\n",
      "    for i in range(n - 2):\n",
      "        old, new = new, new + old\n",
      "    return new"
     ],
     "language": "python",
     "metadata": {},
     "outputs": [],
     "prompt_number": 1
    },
    {
     "cell_type": "code",
     "collapsed": false,
     "input": [
      "%timeit(fibo(10000000))"
     ],
     "language": "python",
     "metadata": {},
     "outputs": []
    },
    {
     "cell_type": "markdown",
     "metadata": {},
     "source": [
      "These are from my laptop, i5-3210m, fixed at 2.5GHz for this test.\n",
      "\n",
      "n    | `%timeit` returns  |\n",
      "--- | --- | ---\n",
      "1000 | 141 $\\mu$s | 1.41e-4\n",
      "10000 | 3.07ms | 3.07e-3\n",
      "100000 | 180ms | 1.80e-1\n",
      "1000000 | 14.7s | 1.47e1\n"
     ]
    },
    {
     "cell_type": "code",
     "collapsed": false,
     "input": [],
     "language": "python",
     "metadata": {},
     "outputs": []
    }
   ],
   "metadata": {}
  }
 ]
}